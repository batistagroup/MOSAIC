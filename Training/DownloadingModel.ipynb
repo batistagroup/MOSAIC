{
 "cells": [
  {
   "cell_type": "code",
   "execution_count": null,
   "id": "7baccab5-5cc6-4af0-bc0d-2e8936817c8f",
   "metadata": {
    "tags": []
   },
   "outputs": [],
   "source": [
    "import os\n",
    "#Set this environment variable so that the download does not blow up any unintended storage disks.\n",
    "os.environ[\"HF_HOME\"] = \"path/to/your/intented/directory/\"\n"
   ]
  },
  {
   "cell_type": "code",
   "execution_count": null,
   "id": "eacae1fc-82fd-4b26-9e53-98edbd00d199",
   "metadata": {
    "tags": []
   },
   "outputs": [],
   "source": [
    "# Here is an option to download from Huggingface\n",
    "from transformers import AutoTokenizer, AutoModelForCausalLM\n",
    "\n",
    "llama_repository = 'llama-3.1-8B-Instruct' \n",
    "tokenizer = AutoTokenizer.from_pretrained(llama_repository)\n",
    "model = AutoModelForCausalLM.from_pretrained(llama_repository,\n",
    "                                             local_files_only = True,)"
   ]
  },
  {
   "cell_type": "code",
   "execution_count": null,
   "id": "ffd743a1-0c68-41b0-8d08-f70cb89e5c48",
   "metadata": {},
   "outputs": [],
   "source": [
    "# You can load the model like this\n",
    "tokenizer = AutoTokenizer.from_pretrained(llama_repository)\n",
    "\n",
    "model = AutoModelForCausalLM.from_pretrained(llama_repository,\n",
    "                                             local_files_only = True\n",
    "                                            )"
   ]
  },
  {
   "cell_type": "code",
   "execution_count": null,
   "id": "f4e72d86-5b08-48cc-be14-866c4c67e73b",
   "metadata": {},
   "outputs": [],
   "source": [
    "# Alternatively, you can download the model paramters from https://www.llama.com/llama-downloads"
   ]
  }
 ],
 "metadata": {
  "kernelspec": {
   "display_name": "DMS_Env",
   "language": "python",
   "name": "paroute_cross_referencing"
  },
  "language_info": {
   "codemirror_mode": {
    "name": "ipython",
    "version": 3
   },
   "file_extension": ".py",
   "mimetype": "text/x-python",
   "name": "python",
   "nbconvert_exporter": "python",
   "pygments_lexer": "ipython3",
   "version": "3.11.9"
  }
 },
 "nbformat": 4,
 "nbformat_minor": 5
}
