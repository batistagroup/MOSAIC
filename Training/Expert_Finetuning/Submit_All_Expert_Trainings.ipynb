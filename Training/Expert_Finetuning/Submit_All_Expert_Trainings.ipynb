{
 "cells": [
  {
   "cell_type": "code",
   "execution_count": null,
   "id": "7e04b064-c6c9-43e2-8d55-3fc7c0820343",
   "metadata": {
    "tags": []
   },
   "outputs": [],
   "source": [
    "import os\n",
    "import pickle\n",
    "import pandas as pd\n",
    "df = pickle.load(open('SFP_Train_Quadrant_df.pkl','rb'))\n",
    "\n"
   ]
  },
  {
   "cell_type": "code",
   "execution_count": null,
   "id": "82d703e4-099f-41fd-908f-b03ec3c275f3",
   "metadata": {
    "tags": []
   },
   "outputs": [],
   "source": [
    "submission_script = \"\"\"#!/bin/bash\n",
    "#SBATCH -A {your account name}\n",
    "#SBATCH -C gpu\n",
    "#SBATCH -q regular\n",
    "#SBATCH -J x{expert_id}\n",
    "#SBATCH -t {time}\n",
    "#SBATCH -N 1\n",
    "#SBATCH --ntasks-per-node=1\n",
    "#SBATCH -c 32\n",
    "#SBATCH --gpus-per-task=4\n",
    "\n",
    "export SLURM_CPU_BIND=\"cores\"\n",
    "\n",
    "module load conda\n",
    "conda activate myenv\n",
    "srun python SuperFP_Expert_Index_Finetuning.py {expert_id}\n",
    "\n",
    "\"\"\""
   ]
  },
  {
   "cell_type": "code",
   "execution_count": null,
   "id": "24c430c1-a877-4b85-b4d0-08d8ae456d4b",
   "metadata": {
    "tags": []
   },
   "outputs": [],
   "source": [
    "\n",
    "final_script = submission_script.format(\n",
    "time = '12:00:00',\n",
    "expert_id = 0,\n",
    ")\n",
    "print(final_script)\n"
   ]
  },
  {
   "cell_type": "code",
   "execution_count": null,
   "id": "dec4ab42-3510-4bfd-be6b-6b06ccf91bec",
   "metadata": {
    "tags": []
   },
   "outputs": [],
   "source": [
    "#Parallel training upon submission\n",
    "\n",
    "submission_command = \"\"\"sbatch {filename}\"\"\"\n",
    "# you need to create a \"Job_Logs\" directory\n",
    "os.chdir('Job_Logs')\n",
    "\n",
    "for expert_id, counts in dict(df['quadrant'].value_counts()).items():\n",
    "    #print(expert_id, counts)\n",
    "    if counts < 400:\n",
    "        use_time = '1:00:00'\n",
    "    elif counts < 800:\n",
    "        use_time = '2:00:00'\n",
    "    elif counts < 1600:\n",
    "        use_time = '4:00:00'\n",
    "    elif counts < 3200:\n",
    "        use_time = '8:00:00'\n",
    "    else:\n",
    "        print('Beyond 3200 entries is going to take more than 8 hrs to finish 10 epochs of training, you need to configure this')\n",
    "        break\n",
    "    \n",
    "    \n",
    "    final_script = submission_script.format(\n",
    "    time = use_time,\n",
    "    expert_id = expert_id,\n",
    "    )\n",
    "    # You need a create a \"Submission_Scripts\" directory\n",
    "    sub_file_name = 'Submission_Scripts/'+ str(expert_id) + '.sub'\n",
    "    with open(sub_file_name, 'w') as f:\n",
    "        f.write(final_script)\n",
    "    os.system(submission_command.format(filename = sub_file_name))\n",
    "    \n",
    "    "
   ]
  }
 ],
 "metadata": {
  "kernelspec": {
   "display_name": "DMS_Env",
   "language": "python",
   "name": "paroute_cross_referencing"
  },
  "language_info": {
   "codemirror_mode": {
    "name": "ipython",
    "version": 3
   },
   "file_extension": ".py",
   "mimetype": "text/x-python",
   "name": "python",
   "nbconvert_exporter": "python",
   "pygments_lexer": "ipython3",
   "version": "3.11.9"
  }
 },
 "nbformat": 4,
 "nbformat_minor": 5
}
