{
 "cells": [
  {
   "cell_type": "markdown",
   "id": "89300c4f-7765-46dc-b112-fe143f85da0f",
   "metadata": {},
   "source": [
    "# Introduction\n",
    "This notebook documents the Kernel Metric Network (KMN), which defines the reaction specific fingerprint (RSFP). This notebook is intended to be a standalone implementation for the ease of reproduction.\n",
    "\n",
    "Author: Haote Li, haote.li@yale.edu"
   ]
  },
  {
   "cell_type": "code",
   "execution_count": 1,
   "id": "f8602043-c32b-446e-88d3-6ada3011cb2f",
   "metadata": {
    "tags": []
   },
   "outputs": [],
   "source": [
    "import torch\n",
    "import torch.nn as nn\n",
    "import torch.optim as optim\n",
    "from torch.utils.data import Dataset, DataLoader, random_split\n",
    "from torch.optim.lr_scheduler import CosineAnnealingLR\n",
    "from sklearn.preprocessing import LabelEncoder\n",
    "import math\n",
    "from tqdm.notebook import tqdm\n",
    "\n",
    "class CustomDataset(Dataset):\n",
    "    def __init__(self, features, labels):\n",
    "        self.features = torch.tensor(features, dtype=torch.float32)\n",
    "        self.label_encoder = LabelEncoder()\n",
    "        self.labels = torch.tensor(self.label_encoder.fit_transform(labels), dtype=torch.long)\n",
    "\n",
    "    def __len__(self):\n",
    "        return len(self.labels)\n",
    "\n",
    "    def __getitem__(self, idx):\n",
    "        return self.features[idx], self.labels[idx]\n",
    "\n",
    "     \n",
    "    \n",
    "class KernelMetricNetwork(nn.Module):\n",
    "    def __init__(self, input_dim, num_classes):\n",
    "        super(KernelMetricNetwork, self).__init__()\n",
    "        print('Using', num_classes, 'classes predictions')\n",
    "        self.fc1 = nn.Linear(input_dim, 256)\n",
    "        self.fc2 = nn.Linear(256, 128)\n",
    "        self.fc3 = nn.Linear(128, num_classes)\n",
    "        self.relu = nn.ReLU()\n",
    "        self.dropout = nn.Dropout(0.3)\n",
    "        self.batch_norm1 = nn.BatchNorm1d(256)\n",
    "        self.batch_norm2 = nn.BatchNorm1d(128)\n",
    "\n",
    "    def forward(self, x):\n",
    "        x = self.dropout(self.batch_norm1(self.relu(self.fc1(x))))\n",
    "        x = self.dropout(self.batch_norm2(self.relu(self.fc2(x))))\n",
    "        x = self.fc3(x)\n",
    "        return x\n",
    "\n",
    "\n",
    "def create_data_loaders(features, labels, batch_size, train_ratio=0.9):\n",
    "    dataset = CustomDataset(features, labels)\n",
    "    train_size = int(train_ratio * len(dataset))\n",
    "    eval_size = len(dataset) - train_size\n",
    "    torch.manual_seed(2)\n",
    "    train_dataset, eval_dataset = random_split(dataset, [train_size, eval_size])\n",
    "\n",
    "    train_loader = DataLoader(train_dataset, batch_size=batch_size, shuffle=True)\n",
    "    eval_loader = DataLoader(eval_dataset, batch_size=batch_size, shuffle=False)\n",
    "\n",
    "    return train_loader, eval_loader\n",
    "\n",
    "class WarmupCosineSchedule(optim.lr_scheduler._LRScheduler):\n",
    "    def __init__(self, optimizer, warmup_epochs, total_epochs, last_epoch=-1):\n",
    "        self.warmup_epochs = warmup_epochs\n",
    "        self.total_epochs = total_epochs\n",
    "        super(WarmupCosineSchedule, self).__init__(optimizer, last_epoch)\n",
    "\n",
    "    def get_lr(self):\n",
    "        if self.last_epoch < self.warmup_epochs:\n",
    "            return [base_lr * (self.last_epoch / self.warmup_epochs) for base_lr in self.base_lrs]\n",
    "        else:\n",
    "            return [base_lr * 0.5 * (1 + math.cos(math.pi * (self.last_epoch - self.warmup_epochs) / (self.total_epochs - self.warmup_epochs))) \n",
    "                    for base_lr in self.base_lrs]\n",
    "\n",
    "def train_model(model, train_loader, eval_loader, num_epochs, lr, device, warmup_epochs):\n",
    "    criterion = nn.CrossEntropyLoss()\n",
    "    optimizer = optim.AdamW(model.parameters(), lr=lr)\n",
    "    scheduler = WarmupCosineSchedule(optimizer, warmup_epochs, num_epochs)\n",
    "\n",
    "    best_eval_acc = 0.0\n",
    "    train_loss = 0.\n",
    "    best_model_state = None\n",
    "\n",
    "    for epoch in range(num_epochs):\n",
    "        model.train()\n",
    "        for batch_features, batch_labels in tqdm(train_loader):\n",
    "            batch_features, batch_labels = batch_features.to(device), batch_labels.to(device)\n",
    "            optimizer.zero_grad()\n",
    "            outputs = model(batch_features)\n",
    "            loss = criterion(outputs, batch_labels)\n",
    "            train_loss += loss.item()\n",
    "            loss.backward()\n",
    "            optimizer.step()\n",
    "        \n",
    "        scheduler.step()\n",
    "        \n",
    "        \n",
    "        train_loss = train_loss/len(train_loader)\n",
    "        \n",
    "        model.eval()\n",
    "        correct = 0\n",
    "        total = 0\n",
    "        eval_loss = 0.\n",
    "        with torch.no_grad():\n",
    "            model.eval()\n",
    "            for batch_features, batch_labels in eval_loader:\n",
    "                batch_features, batch_labels = batch_features.to(device), batch_labels.to(device)\n",
    "                outputs = model(batch_features)\n",
    "                eval_loss += criterion(outputs, batch_labels).item()\n",
    "                \n",
    "                _, predicted = torch.max(outputs.data, 1)\n",
    "                total += batch_labels.size(0)\n",
    "                correct += (predicted == batch_labels).sum().item()\n",
    "        eval_loss = eval_loss/len(eval_loader)\n",
    "        eval_acc = correct / total\n",
    "        print(f'Epoch {epoch+1}/{num_epochs}, Validation Accuracy: {eval_acc:.4f}, Train_loss {train_loss:.4f} ,Eval_Loss: {eval_loss:.4f}')\n",
    "        print()\n",
    "        if eval_acc > best_eval_acc:\n",
    "            best_eval_acc = eval_acc\n",
    "            best_model_state = model.state_dict()\n",
    "\n",
    "    return best_model_state, best_eval_acc\n",
    "\n",
    "def save_model(model_state, filename):\n",
    "    torch.save(model_state, filename)\n",
    "\n",
    "def load_model(model, filename):\n",
    "    model.load_state_dict(torch.load(filename))\n",
    "    return model\n",
    "\n",
    "def main(features, labels, num_epochs=50, batch_size=1024, lr=0.001, warmup_epochs=5):\n",
    "    device = torch.device(\"cuda\" if torch.cuda.is_available() else \"cpu\")\n",
    "    \n",
    "    train_loader, eval_loader = create_data_loaders(features, labels, batch_size)\n",
    "    \n",
    "    input_dim = features.shape[1]\n",
    "    num_classes = len(set(labels))\n",
    "    model = KernelMetricNetwork(input_dim, num_classes).to(device)\n",
    "    \n",
    "    total_params = sum(p.numel() for p in model.parameters())\n",
    "    print(f\"Number of parameters: {total_params}\")\n",
    "    \n",
    "    best_model_state, best_acc = train_model(model, train_loader, eval_loader, num_epochs, lr, device, warmup_epochs)\n",
    "    \n",
    "    print(f\"Best validation accuracy: {best_acc:.4f}\")\n",
    "    \n",
    "    save_model(best_model_state, \"best_model_50ep_4096batchsize_AdamW.pth\")"
   ]
  },
  {
   "cell_type": "code",
   "execution_count": 2,
   "id": "fb74c316-4550-473d-af42-99e7766de7a4",
   "metadata": {
    "tags": []
   },
   "outputs": [],
   "source": [
    "import pickle\n",
    "import numpy as np\n",
    "import pandas as pd"
   ]
  },
  {
   "cell_type": "code",
   "execution_count": 3,
   "id": "c896dbf2-9bdf-43d9-b0dd-2f0a868f98ec",
   "metadata": {
    "tags": []
   },
   "outputs": [],
   "source": [
    "\n",
    "features = pickle.load(open('MixFP_Reactant_Features_p4_r2_update_1024_dim.pkl', 'rb'))\n",
    "# Load the premade features. This object is an int8 numpy array with dimensions [N data entries, 1024*3]\n",
    "\n"
   ]
  },
  {
   "cell_type": "code",
   "execution_count": 4,
   "id": "ca33715b-6a22-4112-a500-80a64ddbd4ae",
   "metadata": {
    "tags": []
   },
   "outputs": [],
   "source": [
    "df = pickle.load(open('FPCompatible_Cleaned_Pistachio.pkl','rb'))\n",
    "# Loading Pistachio to obtain all named reactions to create individual labels\n",
    "df = df[~df['namerxndef'].isna()].reset_index(drop=True)\n",
    "\n",
    "labels = df['namerxndef'].values \n",
    "del(df)"
   ]
  },
  {
   "cell_type": "code",
   "execution_count": 5,
   "id": "2b785578-eafb-4c1d-8a94-3e77cca3c542",
   "metadata": {
    "tags": []
   },
   "outputs": [],
   "source": [
    "# Sanity check\n",
    "valid_indices = []\n",
    "for l in labels:\n",
    "    if type(l) == type(''):\n",
    "        valid_indices.append(True)\n",
    "    else:\n",
    "        valid_indices.append(False)"
   ]
  },
  {
   "cell_type": "code",
   "execution_count": 5,
   "id": "a1038ae1-7107-4cba-b432-6f13eb70d09c",
   "metadata": {
    "tags": []
   },
   "outputs": [
    {
     "name": "stdout",
     "output_type": "stream",
     "text": [
      "Using 2285 classes predictions\n",
      "Number of parameters: 1901549\n"
     ]
    },
    {
     "data": {
      "application/vnd.jupyter.widget-view+json": {
       "model_id": "9416b7d26301448c93078af9e2f1bf2f",
       "version_major": 2,
       "version_minor": 0
      },
      "text/plain": [
       "  0%|          | 0/817 [00:00<?, ?it/s]"
      ]
     },
     "metadata": {},
     "output_type": "display_data"
    },
    {
     "name": "stdout",
     "output_type": "stream",
     "text": [
      "Epoch 1/50, Validation Accuracy: 0.0004, Train_loss 7.9725 ,Eval_Loss: 7.8573\n",
      "\n"
     ]
    },
    {
     "data": {
      "application/vnd.jupyter.widget-view+json": {
       "model_id": "6188560c38184d5cb260d1103736356a",
       "version_major": 2,
       "version_minor": 0
      },
      "text/plain": [
       "  0%|          | 0/817 [00:00<?, ?it/s]"
      ]
     },
     "metadata": {},
     "output_type": "display_data"
    },
    {
     "name": "stdout",
     "output_type": "stream",
     "text": [
      "Epoch 2/50, Validation Accuracy: 0.8239, Train_loss 2.1127 ,Eval_Loss: 0.8009\n",
      "\n"
     ]
    },
    {
     "data": {
      "application/vnd.jupyter.widget-view+json": {
       "model_id": "049de049c5934cca9d2c053f2a41e0f2",
       "version_major": 2,
       "version_minor": 0
      },
      "text/plain": [
       "  0%|          | 0/817 [00:00<?, ?it/s]"
      ]
     },
     "metadata": {},
     "output_type": "display_data"
    },
    {
     "name": "stdout",
     "output_type": "stream",
     "text": [
      "Epoch 3/50, Validation Accuracy: 0.8783, Train_loss 0.7126 ,Eval_Loss: 0.4413\n",
      "\n"
     ]
    },
    {
     "data": {
      "application/vnd.jupyter.widget-view+json": {
       "model_id": "34470825ff29482cbb1d4e16623505f9",
       "version_major": 2,
       "version_minor": 0
      },
      "text/plain": [
       "  0%|          | 0/817 [00:00<?, ?it/s]"
      ]
     },
     "metadata": {},
     "output_type": "display_data"
    },
    {
     "name": "stdout",
     "output_type": "stream",
     "text": [
      "Epoch 4/50, Validation Accuracy: 0.8915, Train_loss 0.5237 ,Eval_Loss: 0.3657\n",
      "\n"
     ]
    },
    {
     "data": {
      "application/vnd.jupyter.widget-view+json": {
       "model_id": "f5d3b38da7fd4d2595e6ca259c98d6a7",
       "version_major": 2,
       "version_minor": 0
      },
      "text/plain": [
       "  0%|          | 0/817 [00:00<?, ?it/s]"
      ]
     },
     "metadata": {},
     "output_type": "display_data"
    },
    {
     "name": "stdout",
     "output_type": "stream",
     "text": [
      "Epoch 5/50, Validation Accuracy: 0.8970, Train_loss 0.4601 ,Eval_Loss: 0.3362\n",
      "\n"
     ]
    },
    {
     "data": {
      "application/vnd.jupyter.widget-view+json": {
       "model_id": "49e44bf806e34ef3ad58151622c72f82",
       "version_major": 2,
       "version_minor": 0
      },
      "text/plain": [
       "  0%|          | 0/817 [00:00<?, ?it/s]"
      ]
     },
     "metadata": {},
     "output_type": "display_data"
    },
    {
     "name": "stdout",
     "output_type": "stream",
     "text": [
      "Epoch 6/50, Validation Accuracy: 0.9019, Train_loss 0.4293 ,Eval_Loss: 0.3182\n",
      "\n"
     ]
    },
    {
     "data": {
      "application/vnd.jupyter.widget-view+json": {
       "model_id": "525a2506e7ca4f41827bc1e50d952489",
       "version_major": 2,
       "version_minor": 0
      },
      "text/plain": [
       "  0%|          | 0/817 [00:00<?, ?it/s]"
      ]
     },
     "metadata": {},
     "output_type": "display_data"
    },
    {
     "name": "stdout",
     "output_type": "stream",
     "text": [
      "Epoch 7/50, Validation Accuracy: 0.9039, Train_loss 0.4013 ,Eval_Loss: 0.3070\n",
      "\n"
     ]
    },
    {
     "data": {
      "application/vnd.jupyter.widget-view+json": {
       "model_id": "4e54f2ad92264a4bb45870b43b9ff002",
       "version_major": 2,
       "version_minor": 0
      },
      "text/plain": [
       "  0%|          | 0/817 [00:00<?, ?it/s]"
      ]
     },
     "metadata": {},
     "output_type": "display_data"
    },
    {
     "name": "stdout",
     "output_type": "stream",
     "text": [
      "Epoch 8/50, Validation Accuracy: 0.9066, Train_loss 0.3838 ,Eval_Loss: 0.2956\n",
      "\n"
     ]
    },
    {
     "data": {
      "application/vnd.jupyter.widget-view+json": {
       "model_id": "2bfd6f769c134d2a91c271f0cf2fe527",
       "version_major": 2,
       "version_minor": 0
      },
      "text/plain": [
       "  0%|          | 0/817 [00:00<?, ?it/s]"
      ]
     },
     "metadata": {},
     "output_type": "display_data"
    },
    {
     "name": "stdout",
     "output_type": "stream",
     "text": [
      "Epoch 9/50, Validation Accuracy: 0.9089, Train_loss 0.3714 ,Eval_Loss: 0.2878\n",
      "\n"
     ]
    },
    {
     "data": {
      "application/vnd.jupyter.widget-view+json": {
       "model_id": "de1c599655654d57bb77e23d94697581",
       "version_major": 2,
       "version_minor": 0
      },
      "text/plain": [
       "  0%|          | 0/817 [00:00<?, ?it/s]"
      ]
     },
     "metadata": {},
     "output_type": "display_data"
    },
    {
     "name": "stdout",
     "output_type": "stream",
     "text": [
      "Epoch 10/50, Validation Accuracy: 0.9097, Train_loss 0.3615 ,Eval_Loss: 0.2827\n",
      "\n"
     ]
    },
    {
     "data": {
      "application/vnd.jupyter.widget-view+json": {
       "model_id": "0070a03407cb4144ab42218a03913781",
       "version_major": 2,
       "version_minor": 0
      },
      "text/plain": [
       "  0%|          | 0/817 [00:00<?, ?it/s]"
      ]
     },
     "metadata": {},
     "output_type": "display_data"
    },
    {
     "name": "stdout",
     "output_type": "stream",
     "text": [
      "Epoch 11/50, Validation Accuracy: 0.9115, Train_loss 0.3527 ,Eval_Loss: 0.2783\n",
      "\n"
     ]
    },
    {
     "data": {
      "application/vnd.jupyter.widget-view+json": {
       "model_id": "afa3db5bb94f4ab3b64530e5bb5a622f",
       "version_major": 2,
       "version_minor": 0
      },
      "text/plain": [
       "  0%|          | 0/817 [00:00<?, ?it/s]"
      ]
     },
     "metadata": {},
     "output_type": "display_data"
    },
    {
     "name": "stdout",
     "output_type": "stream",
     "text": [
      "Epoch 12/50, Validation Accuracy: 0.9118, Train_loss 0.3448 ,Eval_Loss: 0.2754\n",
      "\n"
     ]
    },
    {
     "data": {
      "application/vnd.jupyter.widget-view+json": {
       "model_id": "63b89102e83b43ddb8e817b0c03ee442",
       "version_major": 2,
       "version_minor": 0
      },
      "text/plain": [
       "  0%|          | 0/817 [00:00<?, ?it/s]"
      ]
     },
     "metadata": {},
     "output_type": "display_data"
    },
    {
     "name": "stdout",
     "output_type": "stream",
     "text": [
      "Epoch 13/50, Validation Accuracy: 0.9128, Train_loss 0.3383 ,Eval_Loss: 0.2724\n",
      "\n"
     ]
    },
    {
     "data": {
      "application/vnd.jupyter.widget-view+json": {
       "model_id": "1ae70591eb7d4a18b02d7d9938a1907f",
       "version_major": 2,
       "version_minor": 0
      },
      "text/plain": [
       "  0%|          | 0/817 [00:00<?, ?it/s]"
      ]
     },
     "metadata": {},
     "output_type": "display_data"
    },
    {
     "name": "stdout",
     "output_type": "stream",
     "text": [
      "Epoch 14/50, Validation Accuracy: 0.9138, Train_loss 0.3320 ,Eval_Loss: 0.2688\n",
      "\n"
     ]
    },
    {
     "data": {
      "application/vnd.jupyter.widget-view+json": {
       "model_id": "10f9fb3759d24790a30a75ab058fc57c",
       "version_major": 2,
       "version_minor": 0
      },
      "text/plain": [
       "  0%|          | 0/817 [00:00<?, ?it/s]"
      ]
     },
     "metadata": {},
     "output_type": "display_data"
    },
    {
     "name": "stdout",
     "output_type": "stream",
     "text": [
      "Epoch 15/50, Validation Accuracy: 0.9141, Train_loss 0.3261 ,Eval_Loss: 0.2672\n",
      "\n"
     ]
    },
    {
     "data": {
      "application/vnd.jupyter.widget-view+json": {
       "model_id": "805089a4da244f619c46d390b67eab33",
       "version_major": 2,
       "version_minor": 0
      },
      "text/plain": [
       "  0%|          | 0/817 [00:00<?, ?it/s]"
      ]
     },
     "metadata": {},
     "output_type": "display_data"
    },
    {
     "name": "stdout",
     "output_type": "stream",
     "text": [
      "Epoch 16/50, Validation Accuracy: 0.9152, Train_loss 0.3209 ,Eval_Loss: 0.2642\n",
      "\n"
     ]
    },
    {
     "data": {
      "application/vnd.jupyter.widget-view+json": {
       "model_id": "42e3dde8529d4b1c8cd56511dfb7a1ea",
       "version_major": 2,
       "version_minor": 0
      },
      "text/plain": [
       "  0%|          | 0/817 [00:00<?, ?it/s]"
      ]
     },
     "metadata": {},
     "output_type": "display_data"
    },
    {
     "name": "stdout",
     "output_type": "stream",
     "text": [
      "Epoch 17/50, Validation Accuracy: 0.9162, Train_loss 0.3158 ,Eval_Loss: 0.2620\n",
      "\n"
     ]
    },
    {
     "data": {
      "application/vnd.jupyter.widget-view+json": {
       "model_id": "692d223ae0db456b8083225eb7348e4c",
       "version_major": 2,
       "version_minor": 0
      },
      "text/plain": [
       "  0%|          | 0/817 [00:00<?, ?it/s]"
      ]
     },
     "metadata": {},
     "output_type": "display_data"
    },
    {
     "name": "stdout",
     "output_type": "stream",
     "text": [
      "Epoch 18/50, Validation Accuracy: 0.9170, Train_loss 0.3115 ,Eval_Loss: 0.2584\n",
      "\n"
     ]
    },
    {
     "data": {
      "application/vnd.jupyter.widget-view+json": {
       "model_id": "d7facafa8dd54e8abfee1a70abff51a9",
       "version_major": 2,
       "version_minor": 0
      },
      "text/plain": [
       "  0%|          | 0/817 [00:00<?, ?it/s]"
      ]
     },
     "metadata": {},
     "output_type": "display_data"
    },
    {
     "name": "stdout",
     "output_type": "stream",
     "text": [
      "Epoch 19/50, Validation Accuracy: 0.9174, Train_loss 0.3071 ,Eval_Loss: 0.2570\n",
      "\n"
     ]
    },
    {
     "data": {
      "application/vnd.jupyter.widget-view+json": {
       "model_id": "7b5dc00fb16f4044a86e0d1714dc66ca",
       "version_major": 2,
       "version_minor": 0
      },
      "text/plain": [
       "  0%|          | 0/817 [00:00<?, ?it/s]"
      ]
     },
     "metadata": {},
     "output_type": "display_data"
    },
    {
     "name": "stdout",
     "output_type": "stream",
     "text": [
      "Epoch 20/50, Validation Accuracy: 0.9180, Train_loss 0.3031 ,Eval_Loss: 0.2547\n",
      "\n"
     ]
    },
    {
     "data": {
      "application/vnd.jupyter.widget-view+json": {
       "model_id": "a9c09fb5610a472f94b24c42f1a57594",
       "version_major": 2,
       "version_minor": 0
      },
      "text/plain": [
       "  0%|          | 0/817 [00:00<?, ?it/s]"
      ]
     },
     "metadata": {},
     "output_type": "display_data"
    },
    {
     "name": "stdout",
     "output_type": "stream",
     "text": [
      "Epoch 21/50, Validation Accuracy: 0.9184, Train_loss 0.2994 ,Eval_Loss: 0.2543\n",
      "\n"
     ]
    },
    {
     "data": {
      "application/vnd.jupyter.widget-view+json": {
       "model_id": "1b38adf1f01c4058a5beccf43517cf8b",
       "version_major": 2,
       "version_minor": 0
      },
      "text/plain": [
       "  0%|          | 0/817 [00:00<?, ?it/s]"
      ]
     },
     "metadata": {},
     "output_type": "display_data"
    },
    {
     "name": "stdout",
     "output_type": "stream",
     "text": [
      "Epoch 22/50, Validation Accuracy: 0.9192, Train_loss 0.2951 ,Eval_Loss: 0.2522\n",
      "\n"
     ]
    },
    {
     "data": {
      "application/vnd.jupyter.widget-view+json": {
       "model_id": "fb808170ff4a4765a8a061e1579e721f",
       "version_major": 2,
       "version_minor": 0
      },
      "text/plain": [
       "  0%|          | 0/817 [00:00<?, ?it/s]"
      ]
     },
     "metadata": {},
     "output_type": "display_data"
    },
    {
     "name": "stdout",
     "output_type": "stream",
     "text": [
      "Epoch 23/50, Validation Accuracy: 0.9194, Train_loss 0.2921 ,Eval_Loss: 0.2515\n",
      "\n"
     ]
    },
    {
     "data": {
      "application/vnd.jupyter.widget-view+json": {
       "model_id": "7e426435dd054500bc14429576ed78e3",
       "version_major": 2,
       "version_minor": 0
      },
      "text/plain": [
       "  0%|          | 0/817 [00:00<?, ?it/s]"
      ]
     },
     "metadata": {},
     "output_type": "display_data"
    },
    {
     "name": "stdout",
     "output_type": "stream",
     "text": [
      "Epoch 24/50, Validation Accuracy: 0.9198, Train_loss 0.2890 ,Eval_Loss: 0.2490\n",
      "\n"
     ]
    },
    {
     "data": {
      "application/vnd.jupyter.widget-view+json": {
       "model_id": "c8f0d76fce48410d9fd4857d041fd736",
       "version_major": 2,
       "version_minor": 0
      },
      "text/plain": [
       "  0%|          | 0/817 [00:00<?, ?it/s]"
      ]
     },
     "metadata": {},
     "output_type": "display_data"
    },
    {
     "name": "stdout",
     "output_type": "stream",
     "text": [
      "Epoch 25/50, Validation Accuracy: 0.9202, Train_loss 0.2857 ,Eval_Loss: 0.2490\n",
      "\n"
     ]
    },
    {
     "data": {
      "application/vnd.jupyter.widget-view+json": {
       "model_id": "b0e51a82448b46ba8d20ccf3c05ef673",
       "version_major": 2,
       "version_minor": 0
      },
      "text/plain": [
       "  0%|          | 0/817 [00:00<?, ?it/s]"
      ]
     },
     "metadata": {},
     "output_type": "display_data"
    },
    {
     "name": "stdout",
     "output_type": "stream",
     "text": [
      "Epoch 26/50, Validation Accuracy: 0.9206, Train_loss 0.2819 ,Eval_Loss: 0.2465\n",
      "\n"
     ]
    },
    {
     "data": {
      "application/vnd.jupyter.widget-view+json": {
       "model_id": "6bd30f5f6477447e83ac4538e3084054",
       "version_major": 2,
       "version_minor": 0
      },
      "text/plain": [
       "  0%|          | 0/817 [00:00<?, ?it/s]"
      ]
     },
     "metadata": {},
     "output_type": "display_data"
    },
    {
     "name": "stdout",
     "output_type": "stream",
     "text": [
      "Epoch 27/50, Validation Accuracy: 0.9208, Train_loss 0.2789 ,Eval_Loss: 0.2474\n",
      "\n"
     ]
    },
    {
     "data": {
      "application/vnd.jupyter.widget-view+json": {
       "model_id": "c5681c25c172473ca999228f6e4e6ac3",
       "version_major": 2,
       "version_minor": 0
      },
      "text/plain": [
       "  0%|          | 0/817 [00:00<?, ?it/s]"
      ]
     },
     "metadata": {},
     "output_type": "display_data"
    },
    {
     "name": "stdout",
     "output_type": "stream",
     "text": [
      "Epoch 28/50, Validation Accuracy: 0.9214, Train_loss 0.2764 ,Eval_Loss: 0.2458\n",
      "\n"
     ]
    },
    {
     "data": {
      "application/vnd.jupyter.widget-view+json": {
       "model_id": "eab32d6791eb4d55b82275bbf54ea41d",
       "version_major": 2,
       "version_minor": 0
      },
      "text/plain": [
       "  0%|          | 0/817 [00:00<?, ?it/s]"
      ]
     },
     "metadata": {},
     "output_type": "display_data"
    },
    {
     "name": "stdout",
     "output_type": "stream",
     "text": [
      "Epoch 29/50, Validation Accuracy: 0.9219, Train_loss 0.2736 ,Eval_Loss: 0.2438\n",
      "\n"
     ]
    },
    {
     "data": {
      "application/vnd.jupyter.widget-view+json": {
       "model_id": "a20c2d665e2846709071b1def04cba01",
       "version_major": 2,
       "version_minor": 0
      },
      "text/plain": [
       "  0%|          | 0/817 [00:00<?, ?it/s]"
      ]
     },
     "metadata": {},
     "output_type": "display_data"
    },
    {
     "name": "stdout",
     "output_type": "stream",
     "text": [
      "Epoch 30/50, Validation Accuracy: 0.9225, Train_loss 0.2712 ,Eval_Loss: 0.2427\n",
      "\n"
     ]
    },
    {
     "data": {
      "application/vnd.jupyter.widget-view+json": {
       "model_id": "70bce7bffc8e41d3b55d60426c7dfd54",
       "version_major": 2,
       "version_minor": 0
      },
      "text/plain": [
       "  0%|          | 0/817 [00:00<?, ?it/s]"
      ]
     },
     "metadata": {},
     "output_type": "display_data"
    },
    {
     "name": "stdout",
     "output_type": "stream",
     "text": [
      "Epoch 31/50, Validation Accuracy: 0.9226, Train_loss 0.2683 ,Eval_Loss: 0.2420\n",
      "\n"
     ]
    },
    {
     "data": {
      "application/vnd.jupyter.widget-view+json": {
       "model_id": "4f45031c69f949b5aa39bf1dc206b482",
       "version_major": 2,
       "version_minor": 0
      },
      "text/plain": [
       "  0%|          | 0/817 [00:00<?, ?it/s]"
      ]
     },
     "metadata": {},
     "output_type": "display_data"
    },
    {
     "name": "stdout",
     "output_type": "stream",
     "text": [
      "Epoch 32/50, Validation Accuracy: 0.9225, Train_loss 0.2655 ,Eval_Loss: 0.2419\n",
      "\n"
     ]
    },
    {
     "data": {
      "application/vnd.jupyter.widget-view+json": {
       "model_id": "6269a0c606564699886d72f1d4ce76c3",
       "version_major": 2,
       "version_minor": 0
      },
      "text/plain": [
       "  0%|          | 0/817 [00:00<?, ?it/s]"
      ]
     },
     "metadata": {},
     "output_type": "display_data"
    },
    {
     "name": "stdout",
     "output_type": "stream",
     "text": [
      "Epoch 33/50, Validation Accuracy: 0.9227, Train_loss 0.2628 ,Eval_Loss: 0.2414\n",
      "\n"
     ]
    },
    {
     "data": {
      "application/vnd.jupyter.widget-view+json": {
       "model_id": "1b7e53ad71c24847b1219edf51f0577f",
       "version_major": 2,
       "version_minor": 0
      },
      "text/plain": [
       "  0%|          | 0/817 [00:00<?, ?it/s]"
      ]
     },
     "metadata": {},
     "output_type": "display_data"
    },
    {
     "name": "stdout",
     "output_type": "stream",
     "text": [
      "Epoch 34/50, Validation Accuracy: 0.9231, Train_loss 0.2609 ,Eval_Loss: 0.2397\n",
      "\n"
     ]
    },
    {
     "data": {
      "application/vnd.jupyter.widget-view+json": {
       "model_id": "e449ac83eb754fa79d40cd82dbac530d",
       "version_major": 2,
       "version_minor": 0
      },
      "text/plain": [
       "  0%|          | 0/817 [00:00<?, ?it/s]"
      ]
     },
     "metadata": {},
     "output_type": "display_data"
    },
    {
     "name": "stdout",
     "output_type": "stream",
     "text": [
      "Epoch 35/50, Validation Accuracy: 0.9232, Train_loss 0.2581 ,Eval_Loss: 0.2396\n",
      "\n"
     ]
    },
    {
     "data": {
      "application/vnd.jupyter.widget-view+json": {
       "model_id": "436b9ec041674ba48367067186056c46",
       "version_major": 2,
       "version_minor": 0
      },
      "text/plain": [
       "  0%|          | 0/817 [00:00<?, ?it/s]"
      ]
     },
     "metadata": {},
     "output_type": "display_data"
    },
    {
     "name": "stdout",
     "output_type": "stream",
     "text": [
      "Epoch 36/50, Validation Accuracy: 0.9235, Train_loss 0.2557 ,Eval_Loss: 0.2387\n",
      "\n"
     ]
    },
    {
     "data": {
      "application/vnd.jupyter.widget-view+json": {
       "model_id": "103182882bd64bf0899fa6348de58e80",
       "version_major": 2,
       "version_minor": 0
      },
      "text/plain": [
       "  0%|          | 0/817 [00:00<?, ?it/s]"
      ]
     },
     "metadata": {},
     "output_type": "display_data"
    },
    {
     "name": "stdout",
     "output_type": "stream",
     "text": [
      "Epoch 37/50, Validation Accuracy: 0.9241, Train_loss 0.2537 ,Eval_Loss: 0.2378\n",
      "\n"
     ]
    },
    {
     "data": {
      "application/vnd.jupyter.widget-view+json": {
       "model_id": "daba03c0690949a88674e3d842f43434",
       "version_major": 2,
       "version_minor": 0
      },
      "text/plain": [
       "  0%|          | 0/817 [00:00<?, ?it/s]"
      ]
     },
     "metadata": {},
     "output_type": "display_data"
    },
    {
     "name": "stdout",
     "output_type": "stream",
     "text": [
      "Epoch 38/50, Validation Accuracy: 0.9243, Train_loss 0.2524 ,Eval_Loss: 0.2371\n",
      "\n"
     ]
    },
    {
     "data": {
      "application/vnd.jupyter.widget-view+json": {
       "model_id": "63623196a5054633b7313f3fb5783767",
       "version_major": 2,
       "version_minor": 0
      },
      "text/plain": [
       "  0%|          | 0/817 [00:00<?, ?it/s]"
      ]
     },
     "metadata": {},
     "output_type": "display_data"
    },
    {
     "name": "stdout",
     "output_type": "stream",
     "text": [
      "Epoch 39/50, Validation Accuracy: 0.9243, Train_loss 0.2499 ,Eval_Loss: 0.2373\n",
      "\n"
     ]
    },
    {
     "data": {
      "application/vnd.jupyter.widget-view+json": {
       "model_id": "2a9efebb5a5a40948d740ad2d62161ea",
       "version_major": 2,
       "version_minor": 0
      },
      "text/plain": [
       "  0%|          | 0/817 [00:00<?, ?it/s]"
      ]
     },
     "metadata": {},
     "output_type": "display_data"
    },
    {
     "name": "stdout",
     "output_type": "stream",
     "text": [
      "Epoch 40/50, Validation Accuracy: 0.9245, Train_loss 0.2485 ,Eval_Loss: 0.2364\n",
      "\n"
     ]
    },
    {
     "data": {
      "application/vnd.jupyter.widget-view+json": {
       "model_id": "ffe401cd9de54226b29edfc1cdeb70bd",
       "version_major": 2,
       "version_minor": 0
      },
      "text/plain": [
       "  0%|          | 0/817 [00:00<?, ?it/s]"
      ]
     },
     "metadata": {},
     "output_type": "display_data"
    },
    {
     "name": "stdout",
     "output_type": "stream",
     "text": [
      "Epoch 41/50, Validation Accuracy: 0.9246, Train_loss 0.2472 ,Eval_Loss: 0.2362\n",
      "\n"
     ]
    },
    {
     "data": {
      "application/vnd.jupyter.widget-view+json": {
       "model_id": "2bc112e9219c47a2879df3e1d28312e3",
       "version_major": 2,
       "version_minor": 0
      },
      "text/plain": [
       "  0%|          | 0/817 [00:00<?, ?it/s]"
      ]
     },
     "metadata": {},
     "output_type": "display_data"
    },
    {
     "name": "stdout",
     "output_type": "stream",
     "text": [
      "Epoch 42/50, Validation Accuracy: 0.9248, Train_loss 0.2458 ,Eval_Loss: 0.2358\n",
      "\n"
     ]
    },
    {
     "data": {
      "application/vnd.jupyter.widget-view+json": {
       "model_id": "53e59a049f66451689aac15535fe4eb3",
       "version_major": 2,
       "version_minor": 0
      },
      "text/plain": [
       "  0%|          | 0/817 [00:00<?, ?it/s]"
      ]
     },
     "metadata": {},
     "output_type": "display_data"
    },
    {
     "name": "stdout",
     "output_type": "stream",
     "text": [
      "Epoch 43/50, Validation Accuracy: 0.9251, Train_loss 0.2443 ,Eval_Loss: 0.2356\n",
      "\n"
     ]
    },
    {
     "data": {
      "application/vnd.jupyter.widget-view+json": {
       "model_id": "daa062da03684083bb2ddafce4faf7df",
       "version_major": 2,
       "version_minor": 0
      },
      "text/plain": [
       "  0%|          | 0/817 [00:00<?, ?it/s]"
      ]
     },
     "metadata": {},
     "output_type": "display_data"
    },
    {
     "name": "stdout",
     "output_type": "stream",
     "text": [
      "Epoch 44/50, Validation Accuracy: 0.9248, Train_loss 0.2429 ,Eval_Loss: 0.2355\n",
      "\n"
     ]
    },
    {
     "data": {
      "application/vnd.jupyter.widget-view+json": {
       "model_id": "d6ee04364e814fa3bc83f393df13cb17",
       "version_major": 2,
       "version_minor": 0
      },
      "text/plain": [
       "  0%|          | 0/817 [00:00<?, ?it/s]"
      ]
     },
     "metadata": {},
     "output_type": "display_data"
    },
    {
     "name": "stdout",
     "output_type": "stream",
     "text": [
      "Epoch 45/50, Validation Accuracy: 0.9249, Train_loss 0.2425 ,Eval_Loss: 0.2353\n",
      "\n"
     ]
    },
    {
     "data": {
      "application/vnd.jupyter.widget-view+json": {
       "model_id": "b8e10bf6a64547449e4a2c2684150394",
       "version_major": 2,
       "version_minor": 0
      },
      "text/plain": [
       "  0%|          | 0/817 [00:00<?, ?it/s]"
      ]
     },
     "metadata": {},
     "output_type": "display_data"
    },
    {
     "name": "stdout",
     "output_type": "stream",
     "text": [
      "Epoch 46/50, Validation Accuracy: 0.9250, Train_loss 0.2411 ,Eval_Loss: 0.2352\n",
      "\n"
     ]
    },
    {
     "data": {
      "application/vnd.jupyter.widget-view+json": {
       "model_id": "ffe194da7e7d4b42a521b628c413b085",
       "version_major": 2,
       "version_minor": 0
      },
      "text/plain": [
       "  0%|          | 0/817 [00:00<?, ?it/s]"
      ]
     },
     "metadata": {},
     "output_type": "display_data"
    },
    {
     "name": "stdout",
     "output_type": "stream",
     "text": [
      "Epoch 47/50, Validation Accuracy: 0.9251, Train_loss 0.2403 ,Eval_Loss: 0.2352\n",
      "\n"
     ]
    },
    {
     "data": {
      "application/vnd.jupyter.widget-view+json": {
       "model_id": "f80e980ec9b34013bb85430b3f1e8d40",
       "version_major": 2,
       "version_minor": 0
      },
      "text/plain": [
       "  0%|          | 0/817 [00:00<?, ?it/s]"
      ]
     },
     "metadata": {},
     "output_type": "display_data"
    },
    {
     "name": "stdout",
     "output_type": "stream",
     "text": [
      "Epoch 48/50, Validation Accuracy: 0.9252, Train_loss 0.2403 ,Eval_Loss: 0.2349\n",
      "\n"
     ]
    },
    {
     "data": {
      "application/vnd.jupyter.widget-view+json": {
       "model_id": "b0d457a7608f496f8b6a1aeb54a1abfb",
       "version_major": 2,
       "version_minor": 0
      },
      "text/plain": [
       "  0%|          | 0/817 [00:00<?, ?it/s]"
      ]
     },
     "metadata": {},
     "output_type": "display_data"
    },
    {
     "name": "stdout",
     "output_type": "stream",
     "text": [
      "Epoch 49/50, Validation Accuracy: 0.9252, Train_loss 0.2398 ,Eval_Loss: 0.2351\n",
      "\n"
     ]
    },
    {
     "data": {
      "application/vnd.jupyter.widget-view+json": {
       "model_id": "cb62e197fee949c583419a0eb7e368ad",
       "version_major": 2,
       "version_minor": 0
      },
      "text/plain": [
       "  0%|          | 0/817 [00:00<?, ?it/s]"
      ]
     },
     "metadata": {},
     "output_type": "display_data"
    },
    {
     "name": "stdout",
     "output_type": "stream",
     "text": [
      "Epoch 50/50, Validation Accuracy: 0.9252, Train_loss 0.2400 ,Eval_Loss: 0.2351\n",
      "\n",
      "Best validation accuracy: 0.9252\n"
     ]
    }
   ],
   "source": [
    "main(features, labels, num_epochs = 50, batch_size = 4096,lr=0.001)"
   ]
  }
 ],
 "metadata": {
  "kernelspec": {
   "display_name": "DMS_Env",
   "language": "python",
   "name": "paroute_cross_referencing"
  },
  "language_info": {
   "codemirror_mode": {
    "name": "ipython",
    "version": 3
   },
   "file_extension": ".py",
   "mimetype": "text/x-python",
   "name": "python",
   "nbconvert_exporter": "python",
   "pygments_lexer": "ipython3",
   "version": "3.11.9"
  }
 },
 "nbformat": 4,
 "nbformat_minor": 5
}
